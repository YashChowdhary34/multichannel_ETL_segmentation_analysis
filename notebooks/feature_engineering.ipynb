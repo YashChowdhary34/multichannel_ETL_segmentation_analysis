{
 "cells": [
  {
   "cell_type": "markdown",
   "metadata": {},
   "source": [
    "## Feature Engineering"
   ]
  },
  {
   "cell_type": "markdown",
   "metadata": {},
   "source": [
    "### Reading Data"
   ]
  },
  {
   "cell_type": "code",
   "execution_count": 18,
   "metadata": {},
   "outputs": [],
   "source": [
    "import pandas as pd\n",
    "import numpy as np\n",
    "\n",
    "cleaned_df = pd.read_csv('../data/processed/cleaned_data.csv')\n",
    "timeseries_df = cleaned_df.copy()\n",
    "customer_metrics_df = cleaned_df.copy()"
   ]
  },
  {
   "cell_type": "markdown",
   "metadata": {},
   "source": [
    "### Adding Features"
   ]
  },
  {
   "cell_type": "markdown",
   "metadata": {},
   "source": [
    "Adding TimeSeries Features"
   ]
  },
  {
   "cell_type": "code",
   "execution_count": 19,
   "metadata": {},
   "outputs": [],
   "source": [
    "timeseries_df['TotalAmount'] = timeseries_df['Quantity'] * timeseries_df['Price']"
   ]
  },
  {
   "cell_type": "code",
   "execution_count": 20,
   "metadata": {},
   "outputs": [],
   "source": [
    "timeseries_df['InvoiceDate'] = pd.to_datetime(timeseries_df['InvoiceDate'])\n",
    "timeseries_df['Year'] = timeseries_df['InvoiceDate'].dt.year\n",
    "timeseries_df['Month'] = timeseries_df['InvoiceDate'].dt.month\n",
    "timeseries_df['DayOfWeek'] = timeseries_df['InvoiceDate'].dt.dayofweek\n",
    "timeseries_df['HourOfDay'] = timeseries_df['InvoiceDate'].dt.hour\n",
    "timeseries_df['TimeOfDay'] = pd.cut(timeseries_df['HourOfDay'],\n",
    "                         bins=[0, 6, 12, 18, 24],\n",
    "                         labels=['Night', 'Morning', 'Afternoon', 'Evening'])"
   ]
  },
  {
   "cell_type": "code",
   "execution_count": 21,
   "metadata": {},
   "outputs": [
    {
     "data": {
      "text/html": [
       "<div>\n",
       "<style scoped>\n",
       "    .dataframe tbody tr th:only-of-type {\n",
       "        vertical-align: middle;\n",
       "    }\n",
       "\n",
       "    .dataframe tbody tr th {\n",
       "        vertical-align: top;\n",
       "    }\n",
       "\n",
       "    .dataframe thead th {\n",
       "        text-align: right;\n",
       "    }\n",
       "</style>\n",
       "<table border=\"1\" class=\"dataframe\">\n",
       "  <thead>\n",
       "    <tr style=\"text-align: right;\">\n",
       "      <th></th>\n",
       "      <th>Invoice</th>\n",
       "      <th>StockCode</th>\n",
       "      <th>Description</th>\n",
       "      <th>Quantity</th>\n",
       "      <th>InvoiceDate</th>\n",
       "      <th>Price</th>\n",
       "      <th>Customer ID</th>\n",
       "      <th>Country</th>\n",
       "      <th>TotalAmount</th>\n",
       "      <th>Year</th>\n",
       "      <th>Month</th>\n",
       "      <th>DayOfWeek</th>\n",
       "      <th>HourOfDay</th>\n",
       "      <th>TimeOfDay</th>\n",
       "    </tr>\n",
       "  </thead>\n",
       "  <tbody>\n",
       "    <tr>\n",
       "      <th>0</th>\n",
       "      <td>489434</td>\n",
       "      <td>85048</td>\n",
       "      <td>15CM CHRISTMAS GLASS BALL 20 LIGHTS</td>\n",
       "      <td>12</td>\n",
       "      <td>2009-12-01 07:45:00</td>\n",
       "      <td>6.95</td>\n",
       "      <td>13085.0</td>\n",
       "      <td>United Kingdom</td>\n",
       "      <td>83.4</td>\n",
       "      <td>2009</td>\n",
       "      <td>12</td>\n",
       "      <td>1</td>\n",
       "      <td>7</td>\n",
       "      <td>Morning</td>\n",
       "    </tr>\n",
       "    <tr>\n",
       "      <th>1</th>\n",
       "      <td>489434</td>\n",
       "      <td>79323P</td>\n",
       "      <td>PINK CHERRY LIGHTS</td>\n",
       "      <td>12</td>\n",
       "      <td>2009-12-01 07:45:00</td>\n",
       "      <td>6.75</td>\n",
       "      <td>13085.0</td>\n",
       "      <td>United Kingdom</td>\n",
       "      <td>81.0</td>\n",
       "      <td>2009</td>\n",
       "      <td>12</td>\n",
       "      <td>1</td>\n",
       "      <td>7</td>\n",
       "      <td>Morning</td>\n",
       "    </tr>\n",
       "    <tr>\n",
       "      <th>2</th>\n",
       "      <td>489434</td>\n",
       "      <td>79323W</td>\n",
       "      <td>WHITE CHERRY LIGHTS</td>\n",
       "      <td>12</td>\n",
       "      <td>2009-12-01 07:45:00</td>\n",
       "      <td>6.75</td>\n",
       "      <td>13085.0</td>\n",
       "      <td>United Kingdom</td>\n",
       "      <td>81.0</td>\n",
       "      <td>2009</td>\n",
       "      <td>12</td>\n",
       "      <td>1</td>\n",
       "      <td>7</td>\n",
       "      <td>Morning</td>\n",
       "    </tr>\n",
       "    <tr>\n",
       "      <th>3</th>\n",
       "      <td>489434</td>\n",
       "      <td>22041</td>\n",
       "      <td>RECORD FRAME 7\" SINGLE SIZE</td>\n",
       "      <td>48</td>\n",
       "      <td>2009-12-01 07:45:00</td>\n",
       "      <td>2.10</td>\n",
       "      <td>13085.0</td>\n",
       "      <td>United Kingdom</td>\n",
       "      <td>100.8</td>\n",
       "      <td>2009</td>\n",
       "      <td>12</td>\n",
       "      <td>1</td>\n",
       "      <td>7</td>\n",
       "      <td>Morning</td>\n",
       "    </tr>\n",
       "    <tr>\n",
       "      <th>4</th>\n",
       "      <td>489434</td>\n",
       "      <td>21232</td>\n",
       "      <td>STRAWBERRY CERAMIC TRINKET BOX</td>\n",
       "      <td>24</td>\n",
       "      <td>2009-12-01 07:45:00</td>\n",
       "      <td>1.25</td>\n",
       "      <td>13085.0</td>\n",
       "      <td>United Kingdom</td>\n",
       "      <td>30.0</td>\n",
       "      <td>2009</td>\n",
       "      <td>12</td>\n",
       "      <td>1</td>\n",
       "      <td>7</td>\n",
       "      <td>Morning</td>\n",
       "    </tr>\n",
       "  </tbody>\n",
       "</table>\n",
       "</div>"
      ],
      "text/plain": [
       "   Invoice StockCode                          Description  Quantity  \\\n",
       "0   489434     85048  15CM CHRISTMAS GLASS BALL 20 LIGHTS        12   \n",
       "1   489434    79323P                   PINK CHERRY LIGHTS        12   \n",
       "2   489434    79323W                  WHITE CHERRY LIGHTS        12   \n",
       "3   489434     22041         RECORD FRAME 7\" SINGLE SIZE         48   \n",
       "4   489434     21232       STRAWBERRY CERAMIC TRINKET BOX        24   \n",
       "\n",
       "          InvoiceDate  Price  Customer ID         Country  TotalAmount  Year  \\\n",
       "0 2009-12-01 07:45:00   6.95      13085.0  United Kingdom         83.4  2009   \n",
       "1 2009-12-01 07:45:00   6.75      13085.0  United Kingdom         81.0  2009   \n",
       "2 2009-12-01 07:45:00   6.75      13085.0  United Kingdom         81.0  2009   \n",
       "3 2009-12-01 07:45:00   2.10      13085.0  United Kingdom        100.8  2009   \n",
       "4 2009-12-01 07:45:00   1.25      13085.0  United Kingdom         30.0  2009   \n",
       "\n",
       "   Month  DayOfWeek  HourOfDay TimeOfDay  \n",
       "0     12          1          7   Morning  \n",
       "1     12          1          7   Morning  \n",
       "2     12          1          7   Morning  \n",
       "3     12          1          7   Morning  \n",
       "4     12          1          7   Morning  "
      ]
     },
     "execution_count": 21,
     "metadata": {},
     "output_type": "execute_result"
    }
   ],
   "source": [
    "timeseries_df.head()"
   ]
  },
  {
   "cell_type": "markdown",
   "metadata": {},
   "source": [
    "Adding Customer Metrics Features"
   ]
  },
  {
   "cell_type": "code",
   "execution_count": 22,
   "metadata": {},
   "outputs": [],
   "source": [
    "customer_metrics_df['TotalAmount'] = customer_metrics_df['Price'] * customer_metrics_df['Quantity']"
   ]
  },
  {
   "cell_type": "code",
   "execution_count": 23,
   "metadata": {},
   "outputs": [],
   "source": [
    "customer_metrics_df = customer_metrics_df.groupby(by = 'Customer ID', as_index=False) \\\n",
    "  .agg(\n",
    "    TotalSpent = ('TotalAmount', 'sum'),\n",
    "    OrderCount = ('Invoice', 'nunique'),\n",
    "    FirstInvoiceDate = ('InvoiceDate', 'min'),\n",
    "    LastInvoiceDate = ('InvoiceDate', 'max')\n",
    "  )"
   ]
  },
  {
   "cell_type": "code",
   "execution_count": 24,
   "metadata": {},
   "outputs": [],
   "source": [
    "customer_metrics_df['LastInvoiceDate'] = pd.to_datetime(customer_metrics_df['LastInvoiceDate'])\n",
    "customer_metrics_df['FirstInvoiceDate'] = pd.to_datetime(customer_metrics_df['FirstInvoiceDate'])\n",
    "\n",
    "customer_metrics_df['CustomerLifespan'] = (customer_metrics_df['LastInvoiceDate'] - customer_metrics_df['FirstInvoiceDate']).dt.days"
   ]
  },
  {
   "cell_type": "code",
   "execution_count": 25,
   "metadata": {},
   "outputs": [],
   "source": [
    "#using the maxinvoice date from the table instead of current date since the data is old\n",
    "max_invoice_date = customer_metrics_df['LastInvoiceDate'].max()\n",
    "\n",
    "customer_metrics_df['Recency'] = (max_invoice_date - customer_metrics_df['LastInvoiceDate']).dt.days"
   ]
  },
  {
   "cell_type": "code",
   "execution_count": 26,
   "metadata": {},
   "outputs": [],
   "source": [
    "customer_metrics_df['CustomerLifespan'] = np.where(customer_metrics_df['CustomerLifespan'] == 0, \\\n",
    "                                                1, customer_metrics_df['CustomerLifespan'])\n",
    "\n",
    "customer_metrics_df['PurchaseFrequency'] = (customer_metrics_df['OrderCount'] / (customer_metrics_df['CustomerLifespan'] / 30)\n",
    ").round(2)"
   ]
  },
  {
   "cell_type": "code",
   "execution_count": 27,
   "metadata": {},
   "outputs": [
    {
     "data": {
      "text/html": [
       "<div>\n",
       "<style scoped>\n",
       "    .dataframe tbody tr th:only-of-type {\n",
       "        vertical-align: middle;\n",
       "    }\n",
       "\n",
       "    .dataframe tbody tr th {\n",
       "        vertical-align: top;\n",
       "    }\n",
       "\n",
       "    .dataframe thead th {\n",
       "        text-align: right;\n",
       "    }\n",
       "</style>\n",
       "<table border=\"1\" class=\"dataframe\">\n",
       "  <thead>\n",
       "    <tr style=\"text-align: right;\">\n",
       "      <th></th>\n",
       "      <th>Customer ID</th>\n",
       "      <th>TotalSpent</th>\n",
       "      <th>OrderCount</th>\n",
       "      <th>FirstInvoiceDate</th>\n",
       "      <th>LastInvoiceDate</th>\n",
       "      <th>CustomerLifespan</th>\n",
       "      <th>Recency</th>\n",
       "      <th>PurchaseFrequency</th>\n",
       "    </tr>\n",
       "  </thead>\n",
       "  <tbody>\n",
       "    <tr>\n",
       "      <th>0</th>\n",
       "      <td>12346.0</td>\n",
       "      <td>169.36</td>\n",
       "      <td>2</td>\n",
       "      <td>2010-03-02 13:08:00</td>\n",
       "      <td>2010-06-28 13:53:00</td>\n",
       "      <td>118</td>\n",
       "      <td>164</td>\n",
       "      <td>0.51</td>\n",
       "    </tr>\n",
       "    <tr>\n",
       "      <th>1</th>\n",
       "      <td>12347.0</td>\n",
       "      <td>1323.32</td>\n",
       "      <td>2</td>\n",
       "      <td>2010-10-31 14:20:00</td>\n",
       "      <td>2010-12-07 14:57:00</td>\n",
       "      <td>37</td>\n",
       "      <td>2</td>\n",
       "      <td>1.62</td>\n",
       "    </tr>\n",
       "    <tr>\n",
       "      <th>2</th>\n",
       "      <td>12348.0</td>\n",
       "      <td>221.16</td>\n",
       "      <td>1</td>\n",
       "      <td>2010-09-27 14:59:00</td>\n",
       "      <td>2010-09-27 14:59:00</td>\n",
       "      <td>1</td>\n",
       "      <td>73</td>\n",
       "      <td>30.00</td>\n",
       "    </tr>\n",
       "    <tr>\n",
       "      <th>3</th>\n",
       "      <td>12349.0</td>\n",
       "      <td>2221.14</td>\n",
       "      <td>2</td>\n",
       "      <td>2010-04-29 13:20:00</td>\n",
       "      <td>2010-10-28 08:23:00</td>\n",
       "      <td>181</td>\n",
       "      <td>42</td>\n",
       "      <td>0.33</td>\n",
       "    </tr>\n",
       "    <tr>\n",
       "      <th>4</th>\n",
       "      <td>12351.0</td>\n",
       "      <td>300.93</td>\n",
       "      <td>1</td>\n",
       "      <td>2010-11-29 15:23:00</td>\n",
       "      <td>2010-11-29 15:23:00</td>\n",
       "      <td>1</td>\n",
       "      <td>10</td>\n",
       "      <td>30.00</td>\n",
       "    </tr>\n",
       "  </tbody>\n",
       "</table>\n",
       "</div>"
      ],
      "text/plain": [
       "   Customer ID  TotalSpent  OrderCount    FirstInvoiceDate  \\\n",
       "0      12346.0      169.36           2 2010-03-02 13:08:00   \n",
       "1      12347.0     1323.32           2 2010-10-31 14:20:00   \n",
       "2      12348.0      221.16           1 2010-09-27 14:59:00   \n",
       "3      12349.0     2221.14           2 2010-04-29 13:20:00   \n",
       "4      12351.0      300.93           1 2010-11-29 15:23:00   \n",
       "\n",
       "      LastInvoiceDate  CustomerLifespan  Recency  PurchaseFrequency  \n",
       "0 2010-06-28 13:53:00               118      164               0.51  \n",
       "1 2010-12-07 14:57:00                37        2               1.62  \n",
       "2 2010-09-27 14:59:00                 1       73              30.00  \n",
       "3 2010-10-28 08:23:00               181       42               0.33  \n",
       "4 2010-11-29 15:23:00                 1       10              30.00  "
      ]
     },
     "execution_count": 27,
     "metadata": {},
     "output_type": "execute_result"
    }
   ],
   "source": [
    "customer_metrics_df.head()"
   ]
  },
  {
   "cell_type": "markdown",
   "metadata": {},
   "source": [
    "### Exporting Data"
   ]
  },
  {
   "cell_type": "code",
   "execution_count": 28,
   "metadata": {},
   "outputs": [],
   "source": [
    "customer_metrics_df.to_csv('../data/processed/customer_metrics.csv', index=False)\n",
    "timeseries_df.to_csv('../data/processed/timeseries_data.csv', index=False)"
   ]
  }
 ],
 "metadata": {
  "kernelspec": {
   "display_name": "retail_analysis_env",
   "language": "python",
   "name": "python3"
  },
  "language_info": {
   "codemirror_mode": {
    "name": "ipython",
    "version": 3
   },
   "file_extension": ".py",
   "mimetype": "text/x-python",
   "name": "python",
   "nbconvert_exporter": "python",
   "pygments_lexer": "ipython3",
   "version": "3.8.20"
  }
 },
 "nbformat": 4,
 "nbformat_minor": 2
}
