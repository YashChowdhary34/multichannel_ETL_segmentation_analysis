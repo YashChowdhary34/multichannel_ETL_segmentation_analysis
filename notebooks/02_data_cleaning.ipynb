{
 "cells": [
  {
   "cell_type": "markdown",
   "metadata": {},
   "source": [
    "## Data Cleaning"
   ]
  },
  {
   "cell_type": "markdown",
   "metadata": {},
   "source": [
    "### Reading Data"
   ]
  },
  {
   "cell_type": "code",
   "execution_count": 20,
   "metadata": {},
   "outputs": [],
   "source": [
    "import pandas as pd \n",
    "\n",
    "df = pd.read_excel('../data/raw/online_retail.xlsx', sheet_name=0)\n",
    "cleaned_df = df.copy()"
   ]
  },
  {
   "cell_type": "markdown",
   "metadata": {},
   "source": [
    "### Handling Invalid StockCode & Invoice"
   ]
  },
  {
   "cell_type": "code",
   "execution_count": 21,
   "metadata": {},
   "outputs": [],
   "source": [
    "cleaned_df['Invoice'] = cleaned_df['Invoice'].astype('str')\n",
    "\n",
    "mask = (\n",
    "  cleaned_df['Invoice'].str.match('^\\\\d{6}$') == True\n",
    ")\n",
    "\n",
    "cleaned_df = cleaned_df[mask]"
   ]
  },
  {
   "cell_type": "code",
   "execution_count": 22,
   "metadata": {},
   "outputs": [],
   "source": [
    "cleaned_df['StockCode'] = cleaned_df['StockCode'].astype('str')\n",
    "\n",
    "mask = (\n",
    "  (cleaned_df['StockCode'].str.match('^\\\\d{5}$') == True) |\n",
    "  (cleaned_df['StockCode'].str.match('^\\\\d{5}[a-zA-Z]+$') == True) |\n",
    "  (cleaned_df['StockCode'].str.match('^PADS$') == True)\n",
    ") \n",
    "\n",
    "cleaned_df = cleaned_df[mask]"
   ]
  },
  {
   "cell_type": "markdown",
   "metadata": {},
   "source": [
    "### Droping Tuples Without CustomerID"
   ]
  },
  {
   "cell_type": "code",
   "execution_count": 23,
   "metadata": {},
   "outputs": [],
   "source": [
    "cleaned_df = cleaned_df.dropna(subset=['Customer ID'])"
   ]
  },
  {
   "cell_type": "markdown",
   "metadata": {},
   "source": [
    "### Removing Cancelled Orders & Negative Quantities & Price"
   ]
  },
  {
   "cell_type": "code",
   "execution_count": 24,
   "metadata": {},
   "outputs": [],
   "source": [
    "#remove cancelled orders\n",
    "cleaned_df = cleaned_df[~cleaned_df['Invoice'].str.startswith('C')]\n",
    "\n",
    "#remove items with 0 or -ve quality or price\n",
    "cleaned_df = cleaned_df[(cleaned_df['Quantity'] > 0) & (cleaned_df['Price'] > 0)]"
   ]
  },
  {
   "cell_type": "markdown",
   "metadata": {},
   "source": [
    "### Removing 0 Prices / Free Products"
   ]
  },
  {
   "cell_type": "code",
   "execution_count": 25,
   "metadata": {},
   "outputs": [],
   "source": [
    "cleaned_df = cleaned_df[cleaned_df['Price'] > 0]"
   ]
  },
  {
   "cell_type": "code",
   "execution_count": 26,
   "metadata": {},
   "outputs": [
    {
     "data": {
      "text/plain": [
       "0.001"
      ]
     },
     "execution_count": 26,
     "metadata": {},
     "output_type": "execute_result"
    }
   ],
   "source": [
    "cleaned_df['Price'].min()"
   ]
  },
  {
   "cell_type": "code",
   "execution_count": 27,
   "metadata": {},
   "outputs": [
    {
     "name": "stdout",
     "output_type": "stream",
     "text": [
      "\n",
      "      Before cleaning size -> 4203688\n",
      "      After cleaning size -> 3250472 \n",
      "\n",
      "      Percent data left -> 77.32429238325965\n",
      "      \n"
     ]
    }
   ],
   "source": [
    "print(f\"\"\"\n",
    "      Before cleaning size -> {df.size}\n",
    "      After cleaning size -> {cleaned_df.size} \\n\n",
    "      Percent data left -> {(len(cleaned_df)/len(df))*100}\n",
    "      \"\"\")"
   ]
  },
  {
   "cell_type": "markdown",
   "metadata": {},
   "source": [
    "### Exporting Data"
   ]
  },
  {
   "cell_type": "code",
   "execution_count": 28,
   "metadata": {},
   "outputs": [],
   "source": [
    "cleaned_df.to_csv('../data/processed/cleaned_data.csv', index = False)"
   ]
  }
 ],
 "metadata": {
  "kernelspec": {
   "display_name": "retail_analysis_env",
   "language": "python",
   "name": "python3"
  },
  "language_info": {
   "codemirror_mode": {
    "name": "ipython",
    "version": 3
   },
   "file_extension": ".py",
   "mimetype": "text/x-python",
   "name": "python",
   "nbconvert_exporter": "python",
   "pygments_lexer": "ipython3",
   "version": "3.8.20"
  }
 },
 "nbformat": 4,
 "nbformat_minor": 2
}
